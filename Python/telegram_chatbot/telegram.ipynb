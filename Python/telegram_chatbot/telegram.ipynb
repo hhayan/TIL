{
 "cells": [
  {
   "cell_type": "code",
   "execution_count": null,
   "id": "4a665eda",
   "metadata": {},
   "outputs": [],
   "source": [
    "from dotenv import load_dotenv\n",
    "import os\n",
    "\n",
    "load_dotenv()\n",
    "\n",
    "# Bot 의 주민번호. 이게 있어야 어떤 봇을 컨트롤 하는지 알 수 있다.\n",
    "bot_token = os.getenv('TELEGRAM_BOT_TOKEN')\n",
    "bot_token"
   ]
  },
  {
   "cell_type": "code",
   "execution_count": 3,
   "id": "b4228d17",
   "metadata": {},
   "outputs": [],
   "source": [
    "# 고정된 URL. 뒤에 붙는 말에 따라 다른 요청이 됨\n",
    "URL = f'https://api.telegram.org/bot{bot_token}'"
   ]
  },
  {
   "cell_type": "code",
   "execution_count": 4,
   "id": "8ff616d5",
   "metadata": {},
   "outputs": [
    {
     "data": {
      "text/plain": [
       "'https://api.telegram.org/bot8011335505:AAEWR65sme9XNh3LjlSV1olq4dRWUkLRiG0/getMe'"
      ]
     },
     "execution_count": 4,
     "metadata": {},
     "output_type": "execute_result"
    }
   ],
   "source": [
    "# bot 에 대한 정보\n",
    "URL + '/getMe'"
   ]
  },
  {
   "cell_type": "code",
   "execution_count": 5,
   "id": "9b150036",
   "metadata": {},
   "outputs": [
    {
     "data": {
      "text/plain": [
       "'https://api.telegram.org/bot8011335505:AAEWR65sme9XNh3LjlSV1olq4dRWUkLRiG0/getUpdates'"
      ]
     },
     "execution_count": 5,
     "metadata": {},
     "output_type": "execute_result"
    }
   ],
   "source": [
    "# BOt의 모든 업데이트\n",
    "# URL + '/getupdates'\n",
    "'https://api.telegram.org/bot8011335505:AAEWR65sme9XNh3LjlSV1olq4dRWUkLRiG0/getUpdates'"
   ]
  },
  {
   "cell_type": "code",
   "execution_count": 6,
   "id": "e2be755f",
   "metadata": {},
   "outputs": [
    {
     "name": "stdout",
     "output_type": "stream",
     "text": [
      "https://api.telegram.org/bot8011335505:AAEWR65sme9XNh3LjlSV1olq4dRWUkLRiG0/sendMessage\n"
     ]
    }
   ],
   "source": [
    "# 답장을 위한 상대방 id\n",
    "my_id = '7631846275'\n",
    "\n",
    "# 메세지\n",
    "message = '밥묵자'\n",
    "\n",
    "print(URL + '/sendMessage')"
   ]
  },
  {
   "cell_type": "code",
   "execution_count": 7,
   "id": "5fbc55d9",
   "metadata": {},
   "outputs": [],
   "source": [
    "data = {\n",
    "    \"ok\": True,\n",
    "    \"result\": [\n",
    "        {\n",
    "            \"update_id\": 485845903,\n",
    "            \"message\": {\n",
    "                \"message_id\": 1,\n",
    "                \"from\": {\n",
    "                    \"id\": 7631846275,\n",
    "                    \"is_bot\": False,\n",
    "                    \"first_name\": \"Hayan\",\n",
    "                    \"last_name\": \"Hyun\",\n",
    "                    \"language_code\": \"ko\"\n",
    "                },\n",
    "                \"chat\": {\n",
    "                    \"id\": 7631846275,\n",
    "                    \"first_name\": \"Hayan\",\n",
    "                    \"last_name\": \"Hyun\",\n",
    "                    \"type\": \"private\"\n",
    "                },\n",
    "                \"date\": 1753323120,\n",
    "                \"text\": \"/start\",\n",
    "                \"entities\": [\n",
    "                    {\n",
    "                        \"offset\": 0,\n",
    "                        \"length\": 6,\n",
    "                        \"type\": \"bot_command\"\n",
    "                    }\n",
    "                ]\n",
    "            }\n",
    "        },\n",
    "        {\n",
    "            \"update_id\": 485845904,\n",
    "            \"message\": {\n",
    "                \"message_id\": 2,\n",
    "                \"from\": {\n",
    "                    \"id\": 7631846275,\n",
    "                    \"is_bot\": False,\n",
    "                    \"first_name\": \"Hayan\",\n",
    "                    \"last_name\": \"Hyun\",\n",
    "                    \"language_code\": \"ko\"\n",
    "                },\n",
    "                \"chat\": {\n",
    "                    \"id\": 7631846275,\n",
    "                    \"first_name\": \"Hayan\",\n",
    "                    \"last_name\": \"Hyun\",\n",
    "                    \"type\": \"private\"\n",
    "                },\n",
    "                \"date\": 1753323259,\n",
    "                \"text\": \"hi\"\n",
    "            }\n",
    "        },\n",
    "        {\n",
    "            \"update_id\": 485845905,\n",
    "            \"message\": {\n",
    "                \"message_id\": 3,\n",
    "                \"from\": {\n",
    "                    \"id\": 7631846275,\n",
    "                    \"is_bot\": False,\n",
    "                    \"first_name\": \"Hayan\",\n",
    "                    \"last_name\": \"Hyun\",\n",
    "                    \"language_code\": \"ko\"\n",
    "                },\n",
    "                \"chat\": {\n",
    "                    \"id\": 7631846275,\n",
    "                    \"first_name\": \"Hayan\",\n",
    "                    \"last_name\": \"Hyun\",\n",
    "                    \"type\": \"private\"\n",
    "                },\n",
    "                \"date\": 1753330902,\n",
    "                \"text\": \"로또\"\n",
    "            }\n",
    "        }\n",
    "    ]\n",
    "}"
   ]
  },
  {
   "cell_type": "code",
   "execution_count": 8,
   "id": "9ce786fb",
   "metadata": {},
   "outputs": [
    {
     "data": {
      "text/plain": [
       "{'ok': True,\n",
       " 'result': [{'update_id': 485845903,\n",
       "   'message': {'message_id': 1,\n",
       "    'from': {'id': 7631846275,\n",
       "     'is_bot': False,\n",
       "     'first_name': 'Hayan',\n",
       "     'last_name': 'Hyun',\n",
       "     'language_code': 'ko'},\n",
       "    'chat': {'id': 7631846275,\n",
       "     'first_name': 'Hayan',\n",
       "     'last_name': 'Hyun',\n",
       "     'type': 'private'},\n",
       "    'date': 1753323120,\n",
       "    'text': '/start',\n",
       "    'entities': [{'offset': 0, 'length': 6, 'type': 'bot_command'}]}},\n",
       "  {'update_id': 485845904,\n",
       "   'message': {'message_id': 2,\n",
       "    'from': {'id': 7631846275,\n",
       "     'is_bot': False,\n",
       "     'first_name': 'Hayan',\n",
       "     'last_name': 'Hyun',\n",
       "     'language_code': 'ko'},\n",
       "    'chat': {'id': 7631846275,\n",
       "     'first_name': 'Hayan',\n",
       "     'last_name': 'Hyun',\n",
       "     'type': 'private'},\n",
       "    'date': 1753323259,\n",
       "    'text': 'hi'}},\n",
       "  {'update_id': 485845905,\n",
       "   'message': {'message_id': 3,\n",
       "    'from': {'id': 7631846275,\n",
       "     'is_bot': False,\n",
       "     'first_name': 'Hayan',\n",
       "     'last_name': 'Hyun',\n",
       "     'language_code': 'ko'},\n",
       "    'chat': {'id': 7631846275,\n",
       "     'first_name': 'Hayan',\n",
       "     'last_name': 'Hyun',\n",
       "     'type': 'private'},\n",
       "    'date': 1753330902,\n",
       "    'text': '로또'}}]}"
      ]
     },
     "execution_count": 8,
     "metadata": {},
     "output_type": "execute_result"
    }
   ],
   "source": [
    "# 데이터 안에 마지막 메세지의 text(내용)을 뽑아라.\n",
    "data"
   ]
  },
  {
   "cell_type": "code",
   "execution_count": 42,
   "id": "5af9376d",
   "metadata": {},
   "outputs": [
    {
     "name": "stdout",
     "output_type": "stream",
     "text": [
      "lotto 7631846275\n"
     ]
    }
   ],
   "source": [
    "#봇 업데이트 받아서, 마지막 메세지 & 유저 받아오기\n",
    "\n",
    "import requests\n",
    "# /getUpdates 로 요청 보내고 -> 응답 JSON 받아서 저장 (실행할때마다 갱신)\n",
    "# json 사용 이유: 받아올때 정보가 \n",
    "data = requests.get(URL + '/getUpdates').json() #data.json()\n",
    "\n",
    "# 데이터 안에 마지막 메세지의 text를 뽑아라\n",
    "input_msg = data[\"result\"][-1][\"message\"][\"text\"]\n",
    "\n",
    "# 마지막 메세지의 보낸사람 id 뽑기\n",
    "sender_id = data[\"result\"][-1][\"message\"][\"from\"][\"id\"]\n",
    "\n",
    "print(input_msg, sender_id)"
   ]
  },
  {
   "cell_type": "code",
   "execution_count": null,
   "id": "96136eb5",
   "metadata": {},
   "outputs": [
    {
     "name": "stdout",
     "output_type": "stream",
     "text": [
      "[31, 2, 37, 42, 25, 15] 7631846275\n"
     ]
    }
   ],
   "source": [
    "# 메세지가 로또면, 로또번호 6개 만들어서 보내기\n",
    "import random\n",
    "\n",
    "# if input_msg IN ('로또', 'lotto', '가즈아'): 내가 보낸 메세지에 lotto가 있으면 응답 메세지 실행\n",
    "# if '로또' == input_msg: 내가 로또 입력하면! 출력값 나옴\n",
    "\n",
    "if input_msg in ('로또', 'lotto', '가즈아', '로또'):\n",
    "    output_msg = str(random.sample(range(1, 46), 6))\n",
    "elif input_msg == '안녕':\n",
    "    output_msg = '오냐'\n",
    "else:\n",
    "    output_msg = '아직은 몰루'\n",
    "\n",
    "body = {\n",
    "    'chat_id': sender_id,\n",
    "    'text': output_msg,\n",
    "}\n",
    "\n",
    "requests.get(URL + '/sendMessage', body).json()\n",
    "\n",
    "print(output_msg, sender_id)\n"
   ]
  },
  {
   "cell_type": "code",
   "execution_count": null,
   "id": "bbbe123d",
   "metadata": {},
   "outputs": [
    {
     "data": {
      "text/plain": [
       "{'ok': True,\n",
       " 'result': {'message_id': 18,\n",
       "  'from': {'id': 8011335505,\n",
       "   'is_bot': True,\n",
       "   'first_name': 'smile',\n",
       "   'username': 'smile_1st_bot'},\n",
       "  'chat': {'id': 7631846275,\n",
       "   'first_name': 'Hayan',\n",
       "   'last_name': 'Hyun',\n",
       "   'type': 'private'},\n",
       "  'date': 1753337045,\n",
       "  'text': '[8, 7, 2]'}}"
      ]
     },
     "execution_count": 32,
     "metadata": {},
     "output_type": "execute_result"
    }
   ],
   "source": [
    "# 메세지 만들어서 전송\n",
    "body = {\n",
    "    # 누구한테\n",
    "    'chat_id': send_id,\n",
    "    # 답변메세지\n",
    "    'text': output_msg, \n",
    "}\n",
    "\n",
    "requests.get(URL + '/sendMessage', body).json()\n",
    "\n",
    "print(output_msg)"
   ]
  }
 ],
 "metadata": {
  "kernelspec": {
   "display_name": "Python 3",
   "language": "python",
   "name": "python3"
  },
  "language_info": {
   "codemirror_mode": {
    "name": "ipython",
    "version": 3
   },
   "file_extension": ".py",
   "mimetype": "text/x-python",
   "name": "python",
   "nbconvert_exporter": "python",
   "pygments_lexer": "ipython3",
   "version": "3.13.2"
  }
 },
 "nbformat": 4,
 "nbformat_minor": 5
}
