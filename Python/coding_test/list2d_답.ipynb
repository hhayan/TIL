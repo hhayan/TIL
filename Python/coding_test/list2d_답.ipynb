{
 "cells": [
  {
   "cell_type": "markdown",
   "id": "fd534c20",
   "metadata": {},
   "source": [
    "# 2d list"
   ]
  },
  {
   "cell_type": "code",
   "execution_count": null,
   "id": "a340444c",
   "metadata": {},
   "outputs": [],
   "source": [
    "N, M = 5, 2\n",
    "\n",
    "# 5 * 5 판에서 2 * 2 부분사각형의 요소 총합 최대값을 구하시오. (49 가 나와야함)\n",
    "# 무식하게 모두 비교한다.\n",
    "board = [\n",
    "    [1, 3, 3, 6, 7],\n",
    "    [8, 13, 9, 12, 8],\n",
    "    [4, 16, 11, 12, 6],\n",
    "    [2, 4, 1, 23, 2],\n",
    "    [9, 13, 4, 7, 3]\n",
    "]"
   ]
  },
  {
   "cell_type": "code",
   "execution_count": null,
   "id": "691576d2",
   "metadata": {},
   "outputs": [],
   "source": [
    "# (r, c)를 시작 지점으로 하는 MxM 크기의 부분 사각형 안의 숫자들을 모두 더하는 역할\n",
    "# r과 c는 M*M 부분 사각형의 시작 행 인덱스 row와 시작 열 인덱스 colum\n",
    "# i(행) j(열) 이 시작점으로부터의 상대적인 위치(오프셋)를 나타내는 내부 루프 변수\n",
    "\n",
    "def sum_flies(r, c):\n",
    "    # 시작 idx 기준으로 M*M 의 총합\n",
    "    total = 0\n",
    "    for i in range(M): # M = 2\n",
    "        for j in range(M):\n",
    "            total += board[r+i][c+j]\n",
    "            #1회차: board[0+0][0+0] -> 1, tot = 1\n",
    "            #2회차: board[0+0][0+1] -> 3, tot = 4\n",
    "    return total\n",
    "\n",
    "# 중첩 for문: i=0, j=0, j=1 / i=1, j=0, j=1 (외부for문 1번, 내부for문 2번 작동함)\n",
    "\n"
   ]
  },
  {
   "cell_type": "code",
   "execution_count": null,
   "id": "55465e09",
   "metadata": {},
   "outputs": [
    {
     "name": "stdout",
     "output_type": "stream",
     "text": [
      "49\n"
     ]
    }
   ],
   "source": [
    "'''파리채의 시작(좌-상)index 만 골라줌 N x N 크기의 보드에서 M x M 크기의 부분 사각형들의 합계를 모두 구하고,\n",
    "그 중에서 최대값을 찾아 출력하는 부분'''\n",
    "# N-M+1\n",
    "\n",
    "maximum = 0\n",
    "for row in range(N-M+1): \n",
    "    for col in range(N-M+1): \n",
    "        total = sum_flies(row, col)\n",
    "        if maximum < total:\n",
    "            maximum = total\n",
    "print(maximum)\n",
    "        "
   ]
  }
 ],
 "metadata": {
  "kernelspec": {
   "display_name": "Python 3",
   "language": "python",
   "name": "python3"
  },
  "language_info": {
   "codemirror_mode": {
    "name": "ipython",
    "version": 3
   },
   "file_extension": ".py",
   "mimetype": "text/x-python",
   "name": "python",
   "nbconvert_exporter": "python",
   "pygments_lexer": "ipython3",
   "version": "3.13.2"
  }
 },
 "nbformat": 4,
 "nbformat_minor": 5
}
