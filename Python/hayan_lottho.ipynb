{
 "cells": [
  {
   "cell_type": "code",
   "execution_count": null,
   "id": "e7bcaa73",
   "metadata": {},
   "outputs": [],
   "source": [
    "# URL URI -> 요청을 보낸다. -> 응답\n",
    "import random\n",
    "my_numbers = random.sample(range(1, 46), 6)"
   ]
  },
  {
   "cell_type": "code",
   "execution_count": null,
   "id": "8b906164",
   "metadata": {},
   "outputs": [
    {
     "data": {
      "text/plain": [
       "<Response [200]>"
      ]
     },
     "execution_count": 1,
     "metadata": {},
     "output_type": "execute_result"
    }
   ],
   "source": [
    "import requests\n",
    "URL = 'https://www.dhlottery.co.kr/common.do?method=getLottoNumber&drwNo=1181'\n",
    "res = requests.get(URL)"
   ]
  },
  {
   "cell_type": "code",
   "execution_count": 4,
   "id": "0400ca7e",
   "metadata": {},
   "outputs": [],
   "source": [
    "data = res.json()"
   ]
  },
  {
   "cell_type": "code",
   "execution_count": null,
   "id": "a09f0205",
   "metadata": {},
   "outputs": [
    {
     "data": {
      "text/plain": [
       "[11, 9, 10, 33, 37, 15]"
      ]
     },
     "execution_count": 6,
     "metadata": {},
     "output_type": "execute_result"
    }
   ],
   "source": [
    "my_numbers\n",
    "\n",
    "# 1. data에서 real_numbers 를 뽑는다.\n",
    "real_numbers = [data[f'drwtNO{i}'] for i in range(1, 7)]\n",
    "bonus = data['bnusNO']\n",
    "\n",
    "# 2. real_numbers + 보너스와 my_numbers를 비교해서 등수 확인\n",
    "# 교집합 len\n",
    "\n",
    "def check_luck\n",
    "    set(my_numbers) & set(real_numbers)\n",
    "    if x == y:\n",
    "        print(\"1등\")\n",
    "    elif len(x) & len(y):\n",
    "        print(\"2등\")\n",
    "    elif len(x) & len(y) == 5:\n",
    "        print(\"3등\")\n",
    "    elif len(x) & len(y) == 4:\n",
    "        print(\"4등\")\n",
    "    elif len(x) & len(y) == 3:\n",
    "        print(\"5등\")\n",
    "'''\n",
    "1등 6개 같음\n",
    "2등 5개 같고, 나머지 한개가 보너스번호\n",
    "3등 5개 같음\n",
    "4등 4개 같음\n",
    "5등 3개 같음\n",
    "꽝\n",
    "'''"
   ]
  },
  {
   "cell_type": "code",
   "execution_count": null,
   "id": "bfece216",
   "metadata": {},
   "outputs": [],
   "source": [
    "# 등수를 뽑아주는 함수를 만들어보자"
   ]
  }
 ],
 "metadata": {
  "kernelspec": {
   "display_name": "Python 3",
   "language": "python",
   "name": "python3"
  },
  "language_info": {
   "codemirror_mode": {
    "name": "ipython",
    "version": 3
   },
   "file_extension": ".py",
   "mimetype": "text/x-python",
   "name": "python",
   "nbconvert_exporter": "python",
   "pygments_lexer": "ipython3",
   "version": "3.13.2"
  }
 },
 "nbformat": 4,
 "nbformat_minor": 5
}
